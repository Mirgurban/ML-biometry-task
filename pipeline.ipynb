{
 "cells": [
  {
   "cell_type": "code",
   "execution_count": null,
   "metadata": {},
   "outputs": [],
   "source": [
    "import pandas as pd\n",
    "# PunktSentenceTokenizer\n",
    "from sklearn import linear_model\n",
    "from sklearn import metrics\n",
    "from sklearn import model_selection\n",
    "from sklearn import naive_bayes\n",
    "from sklearn.model_selection import cross_val_score\n",
    "import librosa\n",
    "\n",
    "from librosa.feature import melspectrogram"
   ]
  },
  {
   "cell_type": "code",
   "execution_count": null,
   "metadata": {},
   "outputs": [],
   "source": [
    "def prepare_song(song_path):\n",
    "  y,sr = librosa.load(song_path,sr=10000)\n",
    "  return librosa.feature.melspectrogram(y=y, sr=sr)\n",
    "  "
   ]
  },
  {
   "cell_type": "code",
   "execution_count": null,
   "metadata": {},
   "outputs": [],
   "source": [
    "all_tracks = [None] * 13936\n",
    "sex = [None] * 13936\n",
    "i = 0\n",
    "import csv\n",
    "with open('C:\\\\Users\\\\Xiaomi\\\\Desktop\\\\ML-biometry-task\\\\train\\\\targets.tsv') as file:\n",
    "    tsv_file = csv.reader(file, delimiter=\"\\t\")\n",
    "    for song_name in tsv_file:\n",
    "        song_pieces = prepare_song('C:\\\\Users\\\\Xiaomi\\\\Desktop\\\\ML-biometry-task\\\\train\\\\' + song_name[0] + '.wav')\n",
    "        all_tracks[i] =  song_pieces\n",
    "        sex[i] = song_name[1]\n",
    "        i += 1\n",
    "        if i % 100 == 0:\n",
    "            print(i)"
   ]
  },
  {
   "cell_type": "code",
   "execution_count": null,
   "metadata": {},
   "outputs": [],
   "source": [
    "import tensorflow as tf\n",
    "from tensorflow.keras import datasets, layers, models\n",
    "import matplotlib.pyplot as plt\n",
    "\n",
    "model = models.Sequential()\n",
    "model.add(layers.Conv2D(32, (3, 3), activation='relu', input_shape=(128, 196, 1)))\n",
    "model.add(layers.MaxPooling2D((2, 2)))\n",
    "model.add(layers.Conv2D(64, (3, 3), activation='relu'))\n",
    "model.add(layers.MaxPooling2D((2, 2)))\n",
    "model.add(layers.Conv2D(64, (3, 3), activation='relu'))\n",
    "\n",
    "\n",
    "model.add(layers.Flatten())\n",
    "model.add(layers.Dense(64, activation='relu'))\n",
    "model.add(layers.Dense(1))\n",
    "\n",
    "model.summary()"
   ]
  }
 ],
 "metadata": {
  "language_info": {
   "name": "python"
  },
  "orig_nbformat": 4
 },
 "nbformat": 4,
 "nbformat_minor": 2
}
