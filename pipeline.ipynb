{
  "nbformat": 4,
  "nbformat_minor": 0,
  "metadata": {
    "colab": {
      "name": "Untitled6.ipynb",
      "provenance": [],
      "collapsed_sections": []
    },
    "kernelspec": {
      "name": "python3",
      "display_name": "Python 3"
    },
    "language_info": {
      "name": "python"
    },
    "accelerator": "GPU",
    "gpuClass": "standard"
  },
  "cells": [
    {
      "cell_type": "code",
      "source": [
        "from sklearn import linear_model\n",
        "from sklearn import metrics\n",
        "from sklearn import model_selection\n",
        "from sklearn import naive_bayes\n",
        "from sklearn.model_selection import cross_val_score\n",
        "import librosa\n",
        "\n",
        "from librosa.feature import melspectrogram\n",
        "from librosa.effects import trim\n",
        "\n",
        "import numpy as np\n",
        "import pandas as pd\n",
        "import os"
      ],
      "metadata": {
        "id": "7SMD0Nd1lRXg"
      },
      "execution_count": null,
      "outputs": []
    },
    {
      "cell_type": "code",
      "source": [
        "def extract_mfcc(filename):\n",
        "    # \"C:\\Users\\Xiaomi\\Desktop\\ML-biometry-task-1\\train\\000ad36ce0dcbc1032a606312d5e787d.wav\"\n",
        "    full_filename = os.path.join('C:\\\\', 'Users', 'Xiaomi', 'Desktop', 'ML-biometry-task-1', 'train',   filename + '.wav')\n",
        "    y, sr = librosa.load(full_filename, duration=3, offset=0.5)\n",
        "    mfcc = np.mean(librosa.feature.mfcc(y=y, sr=sr, n_mfcc=40).T, axis=0)\n",
        "    return mfcc"
      ],
      "metadata": {
        "id": "nGA7WYVJlS6T"
      },
      "execution_count": null,
      "outputs": []
    },
    {
      "cell_type": "code",
      "source": [
        "song_name = pd.read_csv('C:\\\\Users\\\\Xiaomi\\\\Desktop\\\\ML-biometry-task-1\\\\train\\\\targets.tsv', sep = '\\t', names = ['audio', 'target'])\n",
        "target = np.array(song_name['target'])"
      ],
      "metadata": {
        "id": "Sa-WlVgklTgK"
      },
      "execution_count": null,
      "outputs": []
    },
    {
      "cell_type": "code",
      "source": [
        "x_mfcc = song_name['audio'].apply(lambda x: extract_mfcc(x))\n",
        "x_mfcc"
      ],
      "metadata": {
        "id": "1SwufQ8dlaKO"
      },
      "execution_count": null,
      "outputs": []
    },
    {
      "cell_type": "markdown",
      "source": [
        "Previous calculations were made on local PC, but LSTM layers were not working there, so everything else were made in Google Collab\n"
      ],
      "metadata": {
        "id": "cqi6LQRRlqTZ"
      }
    },
    {
      "cell_type": "code",
      "source": [
        "import numpy as np\n",
        "y = np.load('/content/gdrive/MyDrive/Biometry/target.npy')\n",
        "y"
      ],
      "metadata": {
        "colab": {
          "base_uri": "https://localhost:8080/"
        },
        "id": "0Cws7_lt-hBd",
        "outputId": "0bdaf17b-6afd-4d87-9c4f-316b0b0ca07a"
      },
      "execution_count": 2,
      "outputs": [
        {
          "output_type": "execute_result",
          "data": {
            "text/plain": [
              "array([1, 1, 1, ..., 1, 0, 0])"
            ]
          },
          "metadata": {},
          "execution_count": 2
        }
      ]
    },
    {
      "cell_type": "code",
      "source": [
        "x_mfcc = np.load('/content/gdrive/MyDrive/Biometry/mfcc.npy', allow_pickle=True)\n",
        "X = [x for x in x_mfcc]\n",
        "X = np.array(X)\n",
        "# X = np.expand_dims(X, -1)\n",
        "X.shape\n"
      ],
      "metadata": {
        "id": "olsL9wW9-z1x"
      },
      "execution_count": 13,
      "outputs": []
    },
    {
      "cell_type": "code",
      "source": [
        "from keras.models import Sequential\n",
        "from keras.layers import Dense, LSTM, Dropout\n",
        "\n",
        "model = Sequential([\n",
        "    LSTM(100, return_sequences=True, input_shape=(40,1)),\n",
        "    LSTM(200, return_sequences=False),\n",
        "    Dropout(0.2),\n",
        "    # LSTM(200, return_sequences=False),\n",
        "    # Dropout(0.2),\n",
        "    # Dense(256, activation='relu'),\n",
        "    # Dropout(0.2),\n",
        "    Dense(128, activation='relu'),\n",
        "    Dropout(0.2),\n",
        "    Dense(64, activation='relu'),\n",
        "    Dropout(0.2),\n",
        "    Dense(32, activation='relu'),\n",
        "    Dense(1, activation='sigmoid')\n",
        "])\n",
        "\n",
        "model.compile(loss='binary_crossentropy', optimizer='adam', metrics=['accuracy'])\n",
        "model.summary()"
      ],
      "metadata": {
        "colab": {
          "base_uri": "https://localhost:8080/"
        },
        "id": "6lm4ELT0_YpE",
        "outputId": "acbe13f0-68b9-4311-f7e5-ba1df5a3f6d2"
      },
      "execution_count": 40,
      "outputs": [
        {
          "output_type": "stream",
          "name": "stdout",
          "text": [
            "Model: \"sequential_11\"\n",
            "_________________________________________________________________\n",
            " Layer (type)                Output Shape              Param #   \n",
            "=================================================================\n",
            " lstm_18 (LSTM)              (None, 40, 100)           40800     \n",
            "                                                                 \n",
            " lstm_19 (LSTM)              (None, 200)               240800    \n",
            "                                                                 \n",
            " dropout_40 (Dropout)        (None, 200)               0         \n",
            "                                                                 \n",
            " dense_50 (Dense)            (None, 128)               25728     \n",
            "                                                                 \n",
            " dropout_41 (Dropout)        (None, 128)               0         \n",
            "                                                                 \n",
            " dense_51 (Dense)            (None, 64)                8256      \n",
            "                                                                 \n",
            " dropout_42 (Dropout)        (None, 64)                0         \n",
            "                                                                 \n",
            " dense_52 (Dense)            (None, 32)                2080      \n",
            "                                                                 \n",
            " dense_53 (Dense)            (None, 1)                 33        \n",
            "                                                                 \n",
            "=================================================================\n",
            "Total params: 317,697\n",
            "Trainable params: 317,697\n",
            "Non-trainable params: 0\n",
            "_________________________________________________________________\n"
          ]
        }
      ]
    },
    {
      "cell_type": "code",
      "source": [
        "history = model.fit(X, y, validation_split=0.2, epochs=100)"
      ],
      "metadata": {
        "colab": {
          "base_uri": "https://localhost:8080/"
        },
        "id": "XOaBCex3_cre",
        "outputId": "7808b5b4-af9c-4494-9344-162444ead0d4"
      },
      "execution_count": 41,
      "outputs": [
        {
          "output_type": "stream",
          "name": "stdout",
          "text": [
            "Epoch 1/100\n",
            "349/349 [==============================] - 10s 13ms/step - loss: 0.5075 - accuracy: 0.7432 - val_loss: 0.4577 - val_accuracy: 0.7676\n",
            "Epoch 2/100\n",
            "349/349 [==============================] - 4s 11ms/step - loss: 0.4669 - accuracy: 0.7687 - val_loss: 0.4835 - val_accuracy: 0.7658\n",
            "Epoch 3/100\n",
            "349/349 [==============================] - 3s 10ms/step - loss: 0.4591 - accuracy: 0.7743 - val_loss: 0.4370 - val_accuracy: 0.7823\n",
            "Epoch 4/100\n",
            "349/349 [==============================] - 3s 10ms/step - loss: 0.4414 - accuracy: 0.7855 - val_loss: 0.4369 - val_accuracy: 0.7819\n",
            "Epoch 5/100\n",
            "349/349 [==============================] - 3s 10ms/step - loss: 0.4388 - accuracy: 0.7877 - val_loss: 0.4379 - val_accuracy: 0.7930\n",
            "Epoch 6/100\n",
            "349/349 [==============================] - 3s 10ms/step - loss: 0.4342 - accuracy: 0.7879 - val_loss: 0.4304 - val_accuracy: 0.7923\n",
            "Epoch 7/100\n",
            "349/349 [==============================] - 3s 10ms/step - loss: 0.4278 - accuracy: 0.7897 - val_loss: 0.4273 - val_accuracy: 0.8027\n",
            "Epoch 8/100\n",
            "349/349 [==============================] - 3s 10ms/step - loss: 0.4159 - accuracy: 0.7970 - val_loss: 0.4085 - val_accuracy: 0.8016\n",
            "Epoch 9/100\n",
            "349/349 [==============================] - 4s 10ms/step - loss: 0.4108 - accuracy: 0.7983 - val_loss: 0.4154 - val_accuracy: 0.7991\n",
            "Epoch 10/100\n",
            "349/349 [==============================] - 3s 10ms/step - loss: 0.4017 - accuracy: 0.8023 - val_loss: 0.4067 - val_accuracy: 0.8117\n",
            "Epoch 11/100\n",
            "349/349 [==============================] - 4s 11ms/step - loss: 0.3932 - accuracy: 0.8018 - val_loss: 0.4136 - val_accuracy: 0.8092\n",
            "Epoch 12/100\n",
            "349/349 [==============================] - 4s 10ms/step - loss: 0.3889 - accuracy: 0.8100 - val_loss: 0.4209 - val_accuracy: 0.8045\n",
            "Epoch 13/100\n",
            "349/349 [==============================] - 3s 10ms/step - loss: 0.3721 - accuracy: 0.8180 - val_loss: 0.3931 - val_accuracy: 0.8164\n",
            "Epoch 14/100\n",
            "349/349 [==============================] - 3s 10ms/step - loss: 0.3607 - accuracy: 0.8219 - val_loss: 0.3838 - val_accuracy: 0.8117\n",
            "Epoch 15/100\n",
            "349/349 [==============================] - 3s 10ms/step - loss: 0.3513 - accuracy: 0.8244 - val_loss: 0.3948 - val_accuracy: 0.8092\n",
            "Epoch 16/100\n",
            "349/349 [==============================] - 3s 10ms/step - loss: 0.3444 - accuracy: 0.8275 - val_loss: 0.3820 - val_accuracy: 0.8164\n",
            "Epoch 17/100\n",
            "349/349 [==============================] - 4s 12ms/step - loss: 0.3352 - accuracy: 0.8323 - val_loss: 0.3667 - val_accuracy: 0.8250\n",
            "Epoch 18/100\n",
            "349/349 [==============================] - 3s 10ms/step - loss: 0.3284 - accuracy: 0.8357 - val_loss: 0.3572 - val_accuracy: 0.8264\n",
            "Epoch 19/100\n",
            "349/349 [==============================] - 3s 10ms/step - loss: 0.3167 - accuracy: 0.8425 - val_loss: 0.3657 - val_accuracy: 0.8228\n",
            "Epoch 20/100\n",
            "349/349 [==============================] - 3s 10ms/step - loss: 0.3062 - accuracy: 0.8512 - val_loss: 0.3866 - val_accuracy: 0.8232\n",
            "Epoch 21/100\n",
            "349/349 [==============================] - 3s 10ms/step - loss: 0.3100 - accuracy: 0.8477 - val_loss: 0.3636 - val_accuracy: 0.8314\n",
            "Epoch 22/100\n",
            "349/349 [==============================] - 3s 10ms/step - loss: 0.2938 - accuracy: 0.8539 - val_loss: 0.3588 - val_accuracy: 0.8271\n",
            "Epoch 23/100\n",
            "349/349 [==============================] - 3s 10ms/step - loss: 0.2925 - accuracy: 0.8550 - val_loss: 0.3696 - val_accuracy: 0.8329\n",
            "Epoch 24/100\n",
            "349/349 [==============================] - 3s 10ms/step - loss: 0.2838 - accuracy: 0.8604 - val_loss: 0.3585 - val_accuracy: 0.8278\n",
            "Epoch 25/100\n",
            "349/349 [==============================] - 3s 10ms/step - loss: 0.2836 - accuracy: 0.8595 - val_loss: 0.3569 - val_accuracy: 0.8346\n",
            "Epoch 26/100\n",
            "349/349 [==============================] - 4s 11ms/step - loss: 0.2704 - accuracy: 0.8689 - val_loss: 0.3526 - val_accuracy: 0.8354\n",
            "Epoch 27/100\n",
            "349/349 [==============================] - 4s 11ms/step - loss: 0.2653 - accuracy: 0.8700 - val_loss: 0.3665 - val_accuracy: 0.8361\n",
            "Epoch 28/100\n",
            "349/349 [==============================] - 3s 10ms/step - loss: 0.2626 - accuracy: 0.8698 - val_loss: 0.3418 - val_accuracy: 0.8511\n",
            "Epoch 29/100\n",
            "349/349 [==============================] - 3s 10ms/step - loss: 0.2547 - accuracy: 0.8746 - val_loss: 0.3347 - val_accuracy: 0.8472\n",
            "Epoch 30/100\n",
            "349/349 [==============================] - 4s 11ms/step - loss: 0.2438 - accuracy: 0.8800 - val_loss: 0.3617 - val_accuracy: 0.8479\n",
            "Epoch 31/100\n",
            "349/349 [==============================] - 3s 10ms/step - loss: 0.2464 - accuracy: 0.8821 - val_loss: 0.3439 - val_accuracy: 0.8497\n",
            "Epoch 32/100\n",
            "349/349 [==============================] - 3s 10ms/step - loss: 0.2295 - accuracy: 0.8905 - val_loss: 0.3591 - val_accuracy: 0.8479\n",
            "Epoch 33/100\n",
            "349/349 [==============================] - 3s 10ms/step - loss: 0.2358 - accuracy: 0.8882 - val_loss: 0.3377 - val_accuracy: 0.8440\n",
            "Epoch 34/100\n",
            "349/349 [==============================] - 3s 10ms/step - loss: 0.2242 - accuracy: 0.8917 - val_loss: 0.3675 - val_accuracy: 0.8576\n",
            "Epoch 35/100\n",
            "349/349 [==============================] - 3s 10ms/step - loss: 0.2261 - accuracy: 0.8919 - val_loss: 0.3719 - val_accuracy: 0.8454\n",
            "Epoch 36/100\n",
            "349/349 [==============================] - 3s 10ms/step - loss: 0.2194 - accuracy: 0.8962 - val_loss: 0.3593 - val_accuracy: 0.8547\n",
            "Epoch 37/100\n",
            "349/349 [==============================] - 3s 10ms/step - loss: 0.2167 - accuracy: 0.8962 - val_loss: 0.3539 - val_accuracy: 0.8555\n",
            "Epoch 38/100\n",
            "349/349 [==============================] - 3s 10ms/step - loss: 0.1997 - accuracy: 0.9048 - val_loss: 0.3562 - val_accuracy: 0.8590\n",
            "Epoch 39/100\n",
            "349/349 [==============================] - 3s 10ms/step - loss: 0.2063 - accuracy: 0.9070 - val_loss: 0.3417 - val_accuracy: 0.8565\n",
            "Epoch 40/100\n",
            "349/349 [==============================] - 3s 10ms/step - loss: 0.1917 - accuracy: 0.9084 - val_loss: 0.3587 - val_accuracy: 0.8511\n",
            "Epoch 41/100\n",
            "349/349 [==============================] - 3s 10ms/step - loss: 0.1947 - accuracy: 0.9107 - val_loss: 0.3632 - val_accuracy: 0.8533\n",
            "Epoch 42/100\n",
            "349/349 [==============================] - 4s 10ms/step - loss: 0.1859 - accuracy: 0.9109 - val_loss: 0.3790 - val_accuracy: 0.8551\n",
            "Epoch 43/100\n",
            "349/349 [==============================] - 3s 10ms/step - loss: 0.1864 - accuracy: 0.9131 - val_loss: 0.3497 - val_accuracy: 0.8580\n",
            "Epoch 44/100\n",
            "349/349 [==============================] - 3s 10ms/step - loss: 0.1703 - accuracy: 0.9203 - val_loss: 0.4080 - val_accuracy: 0.8522\n",
            "Epoch 45/100\n",
            "349/349 [==============================] - 3s 10ms/step - loss: 0.1687 - accuracy: 0.9217 - val_loss: 0.3960 - val_accuracy: 0.8540\n",
            "Epoch 46/100\n",
            "349/349 [==============================] - 3s 10ms/step - loss: 0.1591 - accuracy: 0.9259 - val_loss: 0.4002 - val_accuracy: 0.8551\n",
            "Epoch 47/100\n",
            "349/349 [==============================] - 3s 10ms/step - loss: 0.1556 - accuracy: 0.9299 - val_loss: 0.3955 - val_accuracy: 0.8630\n",
            "Epoch 48/100\n",
            "349/349 [==============================] - 3s 10ms/step - loss: 0.1470 - accuracy: 0.9342 - val_loss: 0.4182 - val_accuracy: 0.8511\n",
            "Epoch 49/100\n",
            "349/349 [==============================] - 3s 10ms/step - loss: 0.1456 - accuracy: 0.9342 - val_loss: 0.4897 - val_accuracy: 0.8497\n",
            "Epoch 50/100\n",
            "349/349 [==============================] - 3s 10ms/step - loss: 0.1554 - accuracy: 0.9316 - val_loss: 0.3873 - val_accuracy: 0.8580\n",
            "Epoch 51/100\n",
            "349/349 [==============================] - 3s 10ms/step - loss: 0.1360 - accuracy: 0.9400 - val_loss: 0.4033 - val_accuracy: 0.8544\n",
            "Epoch 52/100\n",
            "349/349 [==============================] - 3s 10ms/step - loss: 0.1359 - accuracy: 0.9390 - val_loss: 0.4219 - val_accuracy: 0.8544\n",
            "Epoch 53/100\n",
            "349/349 [==============================] - 4s 10ms/step - loss: 0.1283 - accuracy: 0.9422 - val_loss: 0.5004 - val_accuracy: 0.8594\n",
            "Epoch 54/100\n",
            "349/349 [==============================] - 3s 10ms/step - loss: 0.1157 - accuracy: 0.9490 - val_loss: 0.4918 - val_accuracy: 0.8544\n",
            "Epoch 55/100\n",
            "349/349 [==============================] - 4s 10ms/step - loss: 0.1256 - accuracy: 0.9461 - val_loss: 0.4741 - val_accuracy: 0.8598\n",
            "Epoch 56/100\n",
            "349/349 [==============================] - 4s 11ms/step - loss: 0.1393 - accuracy: 0.9399 - val_loss: 0.5046 - val_accuracy: 0.8454\n",
            "Epoch 57/100\n",
            "349/349 [==============================] - 3s 10ms/step - loss: 0.1219 - accuracy: 0.9462 - val_loss: 0.4538 - val_accuracy: 0.8555\n",
            "Epoch 58/100\n",
            "349/349 [==============================] - 3s 10ms/step - loss: 0.1252 - accuracy: 0.9463 - val_loss: 0.4494 - val_accuracy: 0.8508\n",
            "Epoch 59/100\n",
            "349/349 [==============================] - 3s 10ms/step - loss: 0.1045 - accuracy: 0.9536 - val_loss: 0.4630 - val_accuracy: 0.8555\n",
            "Epoch 60/100\n",
            "349/349 [==============================] - 3s 10ms/step - loss: 0.0999 - accuracy: 0.9564 - val_loss: 0.5273 - val_accuracy: 0.8544\n",
            "Epoch 61/100\n",
            "349/349 [==============================] - 3s 10ms/step - loss: 0.0991 - accuracy: 0.9584 - val_loss: 0.4848 - val_accuracy: 0.8551\n",
            "Epoch 62/100\n",
            "349/349 [==============================] - 3s 10ms/step - loss: 0.1081 - accuracy: 0.9526 - val_loss: 0.5852 - val_accuracy: 0.8562\n",
            "Epoch 63/100\n",
            "349/349 [==============================] - 3s 10ms/step - loss: 0.1046 - accuracy: 0.9556 - val_loss: 0.4529 - val_accuracy: 0.8515\n",
            "Epoch 64/100\n",
            "349/349 [==============================] - 4s 11ms/step - loss: 0.1028 - accuracy: 0.9586 - val_loss: 0.5033 - val_accuracy: 0.8580\n",
            "Epoch 65/100\n",
            "349/349 [==============================] - 3s 10ms/step - loss: 0.1062 - accuracy: 0.9565 - val_loss: 0.4746 - val_accuracy: 0.8508\n",
            "Epoch 66/100\n",
            "349/349 [==============================] - 3s 10ms/step - loss: 0.0965 - accuracy: 0.9593 - val_loss: 0.4789 - val_accuracy: 0.8540\n",
            "Epoch 67/100\n",
            "349/349 [==============================] - 3s 10ms/step - loss: 0.0788 - accuracy: 0.9673 - val_loss: 0.5296 - val_accuracy: 0.8508\n",
            "Epoch 68/100\n",
            "349/349 [==============================] - 4s 11ms/step - loss: 0.0908 - accuracy: 0.9641 - val_loss: 0.5143 - val_accuracy: 0.8569\n",
            "Epoch 69/100\n",
            "349/349 [==============================] - 4s 10ms/step - loss: 0.0814 - accuracy: 0.9687 - val_loss: 0.4945 - val_accuracy: 0.8630\n",
            "Epoch 70/100\n",
            "349/349 [==============================] - 3s 10ms/step - loss: 0.1053 - accuracy: 0.9570 - val_loss: 0.4802 - val_accuracy: 0.8598\n",
            "Epoch 71/100\n",
            "349/349 [==============================] - 4s 11ms/step - loss: 0.0762 - accuracy: 0.9711 - val_loss: 0.5617 - val_accuracy: 0.8537\n",
            "Epoch 72/100\n",
            "349/349 [==============================] - 3s 10ms/step - loss: 0.0721 - accuracy: 0.9717 - val_loss: 0.5969 - val_accuracy: 0.8533\n",
            "Epoch 73/100\n",
            "349/349 [==============================] - 4s 11ms/step - loss: 0.0739 - accuracy: 0.9717 - val_loss: 0.5516 - val_accuracy: 0.8633\n",
            "Epoch 74/100\n",
            "349/349 [==============================] - 3s 10ms/step - loss: 0.0704 - accuracy: 0.9715 - val_loss: 0.5128 - val_accuracy: 0.8565\n",
            "Epoch 75/100\n",
            "349/349 [==============================] - 3s 10ms/step - loss: 0.0759 - accuracy: 0.9692 - val_loss: 0.5189 - val_accuracy: 0.8687\n",
            "Epoch 76/100\n",
            "349/349 [==============================] - 4s 11ms/step - loss: 0.0604 - accuracy: 0.9778 - val_loss: 0.5158 - val_accuracy: 0.8641\n",
            "Epoch 77/100\n",
            "349/349 [==============================] - 4s 10ms/step - loss: 0.0688 - accuracy: 0.9723 - val_loss: 0.6301 - val_accuracy: 0.8587\n",
            "Epoch 78/100\n",
            "349/349 [==============================] - 3s 10ms/step - loss: 0.0650 - accuracy: 0.9755 - val_loss: 0.5901 - val_accuracy: 0.8540\n",
            "Epoch 79/100\n",
            "349/349 [==============================] - 3s 10ms/step - loss: 0.0768 - accuracy: 0.9707 - val_loss: 0.5585 - val_accuracy: 0.8511\n",
            "Epoch 80/100\n",
            "349/349 [==============================] - 3s 10ms/step - loss: 0.0627 - accuracy: 0.9769 - val_loss: 0.4907 - val_accuracy: 0.8590\n",
            "Epoch 81/100\n",
            "349/349 [==============================] - 4s 10ms/step - loss: 0.0608 - accuracy: 0.9785 - val_loss: 0.5155 - val_accuracy: 0.8544\n",
            "Epoch 82/100\n",
            "349/349 [==============================] - 3s 10ms/step - loss: 0.0602 - accuracy: 0.9758 - val_loss: 0.5263 - val_accuracy: 0.8519\n",
            "Epoch 83/100\n",
            "349/349 [==============================] - 3s 10ms/step - loss: 0.0709 - accuracy: 0.9735 - val_loss: 0.5724 - val_accuracy: 0.8547\n",
            "Epoch 84/100\n",
            "349/349 [==============================] - 4s 10ms/step - loss: 0.0530 - accuracy: 0.9804 - val_loss: 0.6140 - val_accuracy: 0.8608\n",
            "Epoch 85/100\n",
            "349/349 [==============================] - 4s 10ms/step - loss: 0.0463 - accuracy: 0.9824 - val_loss: 0.6736 - val_accuracy: 0.8633\n",
            "Epoch 86/100\n",
            "349/349 [==============================] - 3s 10ms/step - loss: 0.0475 - accuracy: 0.9821 - val_loss: 0.6429 - val_accuracy: 0.8547\n",
            "Epoch 87/100\n",
            "349/349 [==============================] - 3s 10ms/step - loss: 0.0577 - accuracy: 0.9786 - val_loss: 0.5753 - val_accuracy: 0.8619\n",
            "Epoch 88/100\n",
            "349/349 [==============================] - 3s 10ms/step - loss: 0.0493 - accuracy: 0.9806 - val_loss: 0.5997 - val_accuracy: 0.8555\n",
            "Epoch 89/100\n",
            "349/349 [==============================] - 3s 10ms/step - loss: 0.0533 - accuracy: 0.9813 - val_loss: 0.5799 - val_accuracy: 0.8569\n",
            "Epoch 90/100\n",
            "349/349 [==============================] - 3s 10ms/step - loss: 0.0463 - accuracy: 0.9832 - val_loss: 0.6700 - val_accuracy: 0.8655\n",
            "Epoch 91/100\n",
            "349/349 [==============================] - 3s 10ms/step - loss: 0.0479 - accuracy: 0.9811 - val_loss: 0.6860 - val_accuracy: 0.8626\n",
            "Epoch 92/100\n",
            "349/349 [==============================] - 3s 10ms/step - loss: 0.0479 - accuracy: 0.9836 - val_loss: 0.6193 - val_accuracy: 0.8562\n",
            "Epoch 93/100\n",
            "349/349 [==============================] - 4s 10ms/step - loss: 0.0511 - accuracy: 0.9841 - val_loss: 0.6653 - val_accuracy: 0.8626\n",
            "Epoch 94/100\n",
            "349/349 [==============================] - 3s 10ms/step - loss: 0.0439 - accuracy: 0.9850 - val_loss: 0.6744 - val_accuracy: 0.8630\n",
            "Epoch 95/100\n",
            "349/349 [==============================] - 4s 10ms/step - loss: 0.0441 - accuracy: 0.9845 - val_loss: 0.6512 - val_accuracy: 0.8608\n",
            "Epoch 96/100\n",
            "349/349 [==============================] - 3s 10ms/step - loss: 0.0414 - accuracy: 0.9848 - val_loss: 0.6768 - val_accuracy: 0.8662\n",
            "Epoch 97/100\n",
            "349/349 [==============================] - 4s 10ms/step - loss: 0.0376 - accuracy: 0.9871 - val_loss: 0.6633 - val_accuracy: 0.8598\n",
            "Epoch 98/100\n",
            "349/349 [==============================] - 4s 10ms/step - loss: 0.0452 - accuracy: 0.9846 - val_loss: 0.5329 - val_accuracy: 0.8633\n",
            "Epoch 99/100\n",
            "349/349 [==============================] - 4s 10ms/step - loss: 0.0411 - accuracy: 0.9854 - val_loss: 0.7178 - val_accuracy: 0.8626\n",
            "Epoch 100/100\n",
            "349/349 [==============================] - 4s 10ms/step - loss: 0.0379 - accuracy: 0.9876 - val_loss: 0.5433 - val_accuracy: 0.8623\n"
          ]
        }
      ]
    },
    {
      "cell_type": "code",
      "source": [
        "  "
      ],
      "metadata": {
        "id": "RvJCyWCrAPfn"
      },
      "execution_count": null,
      "outputs": []
    }
  ]
}
